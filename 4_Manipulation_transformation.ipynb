{
 "cells": [
  {
   "cell_type": "code",
   "execution_count": 1,
   "id": "e8dd2970-77db-4c9f-9edc-6ea2609ca4d0",
   "metadata": {},
   "outputs": [
    {
     "name": "stderr",
     "output_type": "stream",
     "text": [
      "Setting default log level to \"WARN\".\n",
      "To adjust logging level use sc.setLogLevel(newLevel). For SparkR, use setLogLevel(newLevel).\n"
     ]
    }
   ],
   "source": [
    "from pyspark.context import SparkContext\n",
    "from pyspark.sql.session import SparkSession\n",
    "sc = SparkContext('local')\n",
    "spark = SparkSession(sc)"
   ]
  },
  {
   "cell_type": "code",
   "execution_count": 2,
   "id": "dccd562d-f4bd-4295-907c-ed3bf09e47e4",
   "metadata": {},
   "outputs": [],
   "source": [
    "from pyspark.sql.types import *"
   ]
  },
  {
   "cell_type": "code",
   "execution_count": 4,
   "id": "0838c82d-002e-467f-8c84-375e32e56c33",
   "metadata": {},
   "outputs": [],
   "source": [
    "\n",
    "schema = StructType(\n",
    "    [\n",
    "    StructField('id', IntegerType(), nullable=False),\n",
    "    StructField('order_date',DateType(),nullable=False),\n",
    "    StructField('amount', IntegerType(), nullable=False),\n",
    "    StructField('status', StringType(), nullable=False)\n",
    "    ]\n",
    ")\n",
    "\n",
    "df = spark.read.csv(path='/user/bigdatapedia/data/orders.csv', schema=schema)"
   ]
  },
  {
   "cell_type": "code",
   "execution_count": 5,
   "id": "99345b03-0e89-42d3-882b-9ac93938e4a1",
   "metadata": {},
   "outputs": [
    {
     "name": "stdout",
     "output_type": "stream",
     "text": [
      "root\n",
      " |-- id: integer (nullable = true)\n",
      " |-- order_date: date (nullable = true)\n",
      " |-- amount: integer (nullable = true)\n",
      " |-- status: string (nullable = true)\n",
      "\n"
     ]
    }
   ],
   "source": [
    "df.printSchema()"
   ]
  },
  {
   "cell_type": "code",
   "execution_count": 6,
   "id": "f5791091-173a-475d-aff0-755575328a62",
   "metadata": {},
   "outputs": [
    {
     "name": "stderr",
     "output_type": "stream",
     "text": [
      "[Stage 0:>                                                          (0 + 1) / 1]\r"
     ]
    },
    {
     "name": "stdout",
     "output_type": "stream",
     "text": [
      "+---+----------+------+---------------+\n",
      "| id|order_date|amount|         status|\n",
      "+---+----------+------+---------------+\n",
      "|  1|2013-07-25| 11599|         CLOSED|\n",
      "|  2|2013-07-25|   256|PENDING_PAYMENT|\n",
      "|  3|2013-07-25| 12111|       COMPLETE|\n",
      "|  4|2013-07-25|  8827|         CLOSED|\n",
      "|  5|2013-07-25| 11318|       COMPLETE|\n",
      "|  6|2013-07-25|  7130|       COMPLETE|\n",
      "|  7|2013-07-25|  4530|       COMPLETE|\n",
      "|  8|2013-07-25|  2911|     PROCESSING|\n",
      "|  9|2013-07-25|  5657|PENDING_PAYMENT|\n",
      "| 10|2013-07-25|  5648|PENDING_PAYMENT|\n",
      "| 11|2013-07-25|   918| PAYMENT_REVIEW|\n",
      "| 12|2013-07-25|  1837|         CLOSED|\n",
      "| 13|2013-07-25|  9149|PENDING_PAYMENT|\n",
      "| 14|2013-07-25|  9842|     PROCESSING|\n",
      "| 15|2013-07-25|  2568|       COMPLETE|\n",
      "| 16|2013-07-25|  7276|PENDING_PAYMENT|\n",
      "| 17|2013-07-25|  2667|       COMPLETE|\n",
      "| 18|2013-07-25|  1205|         CLOSED|\n",
      "| 19|2013-07-25|  9488|PENDING_PAYMENT|\n",
      "| 20|2013-07-25|  9198|     PROCESSING|\n",
      "+---+----------+------+---------------+\n",
      "only showing top 20 rows\n",
      "\n"
     ]
    },
    {
     "name": "stderr",
     "output_type": "stream",
     "text": [
      "                                                                                \r"
     ]
    }
   ],
   "source": [
    "df.show()"
   ]
  },
  {
   "cell_type": "markdown",
   "id": "f4c5c190-12c4-4521-9bd8-7abe2525ede2",
   "metadata": {},
   "source": [
    "**Descriptive Statistics**"
   ]
  },
  {
   "cell_type": "code",
   "execution_count": 7,
   "id": "eeef6304-f0d8-4567-8f62-69da3fc4c5ac",
   "metadata": {},
   "outputs": [
    {
     "name": "stderr",
     "output_type": "stream",
     "text": [
      "[Stage 1:>                                                          (0 + 1) / 1]\r"
     ]
    },
    {
     "name": "stdout",
     "output_type": "stream",
     "text": [
      "+-------+------------------+-----------------+--------+\n",
      "|summary|                id|           amount|  status|\n",
      "+-------+------------------+-----------------+--------+\n",
      "|  count|             68883|            68883|   68883|\n",
      "|   mean|           34442.0|6216.571098819738|    null|\n",
      "| stddev|19884.953633337947|3586.205241263963|    null|\n",
      "|    min|                 1|                1|CANCELED|\n",
      "|    max|             68883|            12435|   test4|\n",
      "+-------+------------------+-----------------+--------+\n",
      "\n"
     ]
    },
    {
     "name": "stderr",
     "output_type": "stream",
     "text": [
      "                                                                                \r"
     ]
    }
   ],
   "source": [
    "df.describe().show()"
   ]
  },
  {
   "cell_type": "markdown",
   "id": "d6830a79-c2ee-43a5-b563-bec4251985c3",
   "metadata": {},
   "source": [
    "**Show specific columns**"
   ]
  },
  {
   "cell_type": "code",
   "execution_count": 8,
   "id": "fd649391-d9f7-46bb-8941-fca2139b622b",
   "metadata": {},
   "outputs": [
    {
     "name": "stdout",
     "output_type": "stream",
     "text": [
      "+----------+---------------+\n",
      "|order_date|         status|\n",
      "+----------+---------------+\n",
      "|2013-07-25|         CLOSED|\n",
      "|2013-07-25|PENDING_PAYMENT|\n",
      "|2013-07-25|       COMPLETE|\n",
      "|2013-07-25|         CLOSED|\n",
      "|2013-07-25|       COMPLETE|\n",
      "|2013-07-25|       COMPLETE|\n",
      "|2013-07-25|       COMPLETE|\n",
      "|2013-07-25|     PROCESSING|\n",
      "|2013-07-25|PENDING_PAYMENT|\n",
      "|2013-07-25|PENDING_PAYMENT|\n",
      "|2013-07-25| PAYMENT_REVIEW|\n",
      "|2013-07-25|         CLOSED|\n",
      "|2013-07-25|PENDING_PAYMENT|\n",
      "|2013-07-25|     PROCESSING|\n",
      "|2013-07-25|       COMPLETE|\n",
      "|2013-07-25|PENDING_PAYMENT|\n",
      "|2013-07-25|       COMPLETE|\n",
      "|2013-07-25|         CLOSED|\n",
      "|2013-07-25|PENDING_PAYMENT|\n",
      "|2013-07-25|     PROCESSING|\n",
      "+----------+---------------+\n",
      "only showing top 20 rows\n",
      "\n"
     ]
    }
   ],
   "source": [
    "df.select('order_date','status').show()"
   ]
  },
  {
   "cell_type": "markdown",
   "id": "51593af7-8da0-4bed-8e92-e03125a2bd7f",
   "metadata": {},
   "source": [
    "**Filter based on value**"
   ]
  },
  {
   "cell_type": "code",
   "execution_count": 9,
   "id": "b591d3ac-f389-424f-a284-7f50351cb710",
   "metadata": {},
   "outputs": [
    {
     "name": "stderr",
     "output_type": "stream",
     "text": [
      "                                                                                \r"
     ]
    },
    {
     "name": "stdout",
     "output_type": "stream",
     "text": [
      "+----------+\n",
      "|order_date|\n",
      "+----------+\n",
      "|2013-09-09|\n",
      "|2013-09-19|\n",
      "|2014-06-03|\n",
      "|2013-09-12|\n",
      "|2014-01-24|\n",
      "|2014-02-16|\n",
      "|2014-06-11|\n",
      "|2013-11-18|\n",
      "|2014-02-18|\n",
      "|2013-08-14|\n",
      "|2013-10-05|\n",
      "|2014-07-04|\n",
      "|2014-07-06|\n",
      "|2013-09-18|\n",
      "|2013-09-20|\n",
      "|2013-09-25|\n",
      "|2014-06-13|\n",
      "|2013-11-23|\n",
      "|2013-09-14|\n",
      "|2014-02-24|\n",
      "+----------+\n",
      "only showing top 20 rows\n",
      "\n"
     ]
    }
   ],
   "source": [
    "df.select('order_date').distinct().show() # Show unique values of `order_date`"
   ]
  },
  {
   "cell_type": "code",
   "execution_count": 10,
   "id": "c60fe8fa-685c-4d48-b8de-10cf6eba46d0",
   "metadata": {},
   "outputs": [
    {
     "name": "stderr",
     "output_type": "stream",
     "text": [
      "                                                                                \r"
     ]
    },
    {
     "data": {
      "text/plain": [
       "364"
      ]
     },
     "execution_count": 10,
     "metadata": {},
     "output_type": "execute_result"
    }
   ],
   "source": [
    "df.select('order_date').distinct().count() # counting unique values of order_date"
   ]
  },
  {
   "cell_type": "code",
   "execution_count": 11,
   "id": "7a467d79-d540-4c24-a16d-ae240b5843ec",
   "metadata": {},
   "outputs": [
    {
     "name": "stdout",
     "output_type": "stream",
     "text": [
      "+-----+----------+------+---------------+\n",
      "|   id|order_date|amount|         status|\n",
      "+-----+----------+------+---------------+\n",
      "|34670|2014-02-24|  8535|       COMPLETE|\n",
      "|34671|2014-02-24|  9335|       COMPLETE|\n",
      "|34672|2014-02-24|  1219|        PENDING|\n",
      "|34673|2014-02-24| 10197|       COMPLETE|\n",
      "|34674|2014-02-24|  9390|PENDING_PAYMENT|\n",
      "|34675|2014-02-24| 10657|PENDING_PAYMENT|\n",
      "|34676|2014-02-24|  8376|       COMPLETE|\n",
      "|34677|2014-02-24| 12360|       CANCELED|\n",
      "|34678|2014-02-24|  1492|         CLOSED|\n",
      "|34679|2014-02-24| 11938|        ON_HOLD|\n",
      "|34680|2014-02-24|  3738|       COMPLETE|\n",
      "|34681|2014-02-24|  8242|        PENDING|\n",
      "|34682|2014-02-24| 11685|     PROCESSING|\n",
      "|34683|2014-02-24|  2438|       COMPLETE|\n",
      "|34684|2014-02-24|   674|PENDING_PAYMENT|\n",
      "|34685|2014-02-24|  3213|       COMPLETE|\n",
      "|34686|2014-02-24|  6000|         CLOSED|\n",
      "|34687|2014-02-24|  1352|         CLOSED|\n",
      "|34688|2014-02-24|  8033|SUSPECTED_FRAUD|\n",
      "|34689|2014-02-24| 10410|        ON_HOLD|\n",
      "+-----+----------+------+---------------+\n",
      "only showing top 20 rows\n",
      "\n"
     ]
    },
    {
     "name": "stderr",
     "output_type": "stream",
     "text": [
      "                                                                                \r"
     ]
    }
   ],
   "source": [
    "df.filter(df.order_date == '2014-02-24').show() # filtering orders on 24th Feb,2014"
   ]
  },
  {
   "cell_type": "code",
   "execution_count": 12,
   "id": "eb580d52-8d05-401c-8ca1-334c5bbbe6ca",
   "metadata": {},
   "outputs": [],
   "source": [
    "# filtering orders on 24th Feb,2014 and amount lesser than $1500\n",
    "\n",
    "from pyspark.sql.functions import col"
   ]
  },
  {
   "cell_type": "code",
   "execution_count": 13,
   "id": "bd899a3a-4554-49de-a783-7f0bd1671be5",
   "metadata": {},
   "outputs": [
    {
     "name": "stdout",
     "output_type": "stream",
     "text": [
      "+-----+----------+------+---------------+\n",
      "|   id|order_date|amount|         status|\n",
      "+-----+----------+------+---------------+\n",
      "|34672|2014-02-24|  1219|        PENDING|\n",
      "|34678|2014-02-24|  1492|         CLOSED|\n",
      "|34684|2014-02-24|   674|PENDING_PAYMENT|\n",
      "|34687|2014-02-24|  1352|         CLOSED|\n",
      "|34707|2014-02-24|    64|SUSPECTED_FRAUD|\n",
      "|34716|2014-02-24|   137|     PROCESSING|\n",
      "|34738|2014-02-24|  1454|PENDING_PAYMENT|\n",
      "|34742|2014-02-24|  1263|        PENDING|\n",
      "|34743|2014-02-24|  1241|        PENDING|\n",
      "|34747|2014-02-24|  1107|       COMPLETE|\n",
      "|34768|2014-02-24|  1207|       COMPLETE|\n",
      "|34780|2014-02-24|  1263|PENDING_PAYMENT|\n",
      "|34813|2014-02-24|  1032|     PROCESSING|\n",
      "|34815|2014-02-24|  1137|PENDING_PAYMENT|\n",
      "|34826|2014-02-24|   515|       COMPLETE|\n",
      "|63408|2014-02-24|   631|        PENDING|\n",
      "|63415|2014-02-24|   312|       COMPLETE|\n",
      "|63419|2014-02-24|   221|        PENDING|\n",
      "|63420|2014-02-24|   291|       COMPLETE|\n",
      "+-----+----------+------+---------------+\n",
      "\n"
     ]
    },
    {
     "name": "stderr",
     "output_type": "stream",
     "text": [
      "                                                                                \r"
     ]
    }
   ],
   "source": [
    "df.filter((col('order_date') == '2014-02-24') & (col('amount') <= 1500)).show()"
   ]
  },
  {
   "cell_type": "markdown",
   "id": "f508d6bf-7e96-43d7-83dc-c214ff9b1560",
   "metadata": {},
   "source": [
    "**Min, Max, Average**"
   ]
  },
  {
   "cell_type": "code",
   "execution_count": 14,
   "id": "b8b8c512-6710-4af7-9d37-78013551ff61",
   "metadata": {},
   "outputs": [
    {
     "name": "stdout",
     "output_type": "stream",
     "text": [
      "+-----------+\n",
      "|min(amount)|\n",
      "+-----------+\n",
      "|          1|\n",
      "+-----------+\n",
      "\n"
     ]
    }
   ],
   "source": [
    "df.agg({'amount':'min',\n",
    "        }).show()"
   ]
  },
  {
   "cell_type": "code",
   "execution_count": 15,
   "id": "71e90e9b-f1b5-4dc7-9744-e4ae00dbd3d9",
   "metadata": {},
   "outputs": [
    {
     "name": "stdout",
     "output_type": "stream",
     "text": [
      "+-----------+\n",
      "|max(amount)|\n",
      "+-----------+\n",
      "|      12435|\n",
      "+-----------+\n",
      "\n"
     ]
    }
   ],
   "source": [
    "df.agg({'amount':'max',\n",
    "        }).show()"
   ]
  },
  {
   "cell_type": "code",
   "execution_count": 16,
   "id": "dff82683-5154-4955-adb6-141fdd40c523",
   "metadata": {},
   "outputs": [
    {
     "name": "stdout",
     "output_type": "stream",
     "text": [
      "+-----------------+\n",
      "|      avg(amount)|\n",
      "+-----------------+\n",
      "|6216.571098819738|\n",
      "+-----------------+\n",
      "\n"
     ]
    }
   ],
   "source": [
    "df.agg({'amount':'avg',\n",
    "        }).show()"
   ]
  },
  {
   "cell_type": "code",
   "execution_count": 17,
   "id": "0891416e-f910-4848-b325-a79fa81c99cc",
   "metadata": {},
   "outputs": [
    {
     "name": "stdout",
     "output_type": "stream",
     "text": [
      "+---------------+-----------+\n",
      "|         status|min(amount)|\n",
      "+---------------+-----------+\n",
      "|PENDING_PAYMENT|          2|\n",
      "|          test4|       8814|\n",
      "|          test3|       4960|\n",
      "|          test1|       5946|\n",
      "|       COMPLETE|          1|\n",
      "|        ON_HOLD|          2|\n",
      "| PAYMENT_REVIEW|         12|\n",
      "|          test2|       6704|\n",
      "|     PROCESSING|          3|\n",
      "|         CLOSED|          4|\n",
      "|SUSPECTED_FRAUD|         16|\n",
      "|        PENDING|          3|\n",
      "|       CANCELED|         18|\n",
      "+---------------+-----------+\n",
      "\n"
     ]
    }
   ],
   "source": [
    "df.groupby('status').agg({'amount':'min',\n",
    "        }).show()"
   ]
  },
  {
   "cell_type": "code",
   "execution_count": 18,
   "id": "ae91183f-95e0-4f04-8679-087f55d6bdfa",
   "metadata": {},
   "outputs": [
    {
     "name": "stdout",
     "output_type": "stream",
     "text": [
      "+---------------+-----------+\n",
      "|         status|max(amount)|\n",
      "+---------------+-----------+\n",
      "|PENDING_PAYMENT|      12434|\n",
      "|          test4|       8814|\n",
      "|          test3|       4960|\n",
      "|          test1|       5946|\n",
      "|       COMPLETE|      12434|\n",
      "|        ON_HOLD|      12434|\n",
      "| PAYMENT_REVIEW|      12433|\n",
      "|          test2|       6704|\n",
      "|     PROCESSING|      12431|\n",
      "|         CLOSED|      12434|\n",
      "|SUSPECTED_FRAUD|      12429|\n",
      "|        PENDING|      12435|\n",
      "|       CANCELED|      12435|\n",
      "+---------------+-----------+\n",
      "\n"
     ]
    }
   ],
   "source": [
    "df.groupby('status').agg({'amount':'max',\n",
    "        }).show()"
   ]
  },
  {
   "cell_type": "markdown",
   "id": "c51db223-8f8c-474f-aa48-9033422df9ff",
   "metadata": {},
   "source": [
    "**Creating Views on dataframe to run SQL Queries**"
   ]
  },
  {
   "cell_type": "code",
   "execution_count": 19,
   "id": "f2d45fd8-f707-4570-ba15-90023b26daff",
   "metadata": {},
   "outputs": [],
   "source": [
    "df.createOrReplaceTempView('tempView') # Creating Temp View"
   ]
  },
  {
   "cell_type": "code",
   "execution_count": 20,
   "id": "d90ca10a-9dfb-4a56-afe3-79f5b9169521",
   "metadata": {},
   "outputs": [],
   "source": [
    "result = spark.sql('select * from tempView where order_date = \"2014-02-24\" and amount <= 1500')"
   ]
  },
  {
   "cell_type": "code",
   "execution_count": 21,
   "id": "fa18f9f1-adf2-4870-9176-502852fede4d",
   "metadata": {},
   "outputs": [
    {
     "name": "stderr",
     "output_type": "stream",
     "text": [
      "[Stage 41:>                                                         (0 + 1) / 1]\r"
     ]
    },
    {
     "name": "stdout",
     "output_type": "stream",
     "text": [
      "+-----+----------+------+---------------+\n",
      "|   id|order_date|amount|         status|\n",
      "+-----+----------+------+---------------+\n",
      "|34672|2014-02-24|  1219|        PENDING|\n",
      "|34678|2014-02-24|  1492|         CLOSED|\n",
      "|34684|2014-02-24|   674|PENDING_PAYMENT|\n",
      "|34687|2014-02-24|  1352|         CLOSED|\n",
      "|34707|2014-02-24|    64|SUSPECTED_FRAUD|\n",
      "|34716|2014-02-24|   137|     PROCESSING|\n",
      "|34738|2014-02-24|  1454|PENDING_PAYMENT|\n",
      "|34742|2014-02-24|  1263|        PENDING|\n",
      "|34743|2014-02-24|  1241|        PENDING|\n",
      "|34747|2014-02-24|  1107|       COMPLETE|\n",
      "|34768|2014-02-24|  1207|       COMPLETE|\n",
      "|34780|2014-02-24|  1263|PENDING_PAYMENT|\n",
      "|34813|2014-02-24|  1032|     PROCESSING|\n",
      "|34815|2014-02-24|  1137|PENDING_PAYMENT|\n",
      "|34826|2014-02-24|   515|       COMPLETE|\n",
      "|63408|2014-02-24|   631|        PENDING|\n",
      "|63415|2014-02-24|   312|       COMPLETE|\n",
      "|63419|2014-02-24|   221|        PENDING|\n",
      "|63420|2014-02-24|   291|       COMPLETE|\n",
      "+-----+----------+------+---------------+\n",
      "\n"
     ]
    },
    {
     "name": "stderr",
     "output_type": "stream",
     "text": [
      "                                                                                \r"
     ]
    }
   ],
   "source": [
    "result.show()"
   ]
  },
  {
   "cell_type": "markdown",
   "id": "758fbc98-8232-4ca6-bda7-4b769afe1bed",
   "metadata": {},
   "source": [
    "**Creating new column and fill values based on other columns**"
   ]
  },
  {
   "cell_type": "code",
   "execution_count": 22,
   "id": "461afa9f-fa78-4a28-86ee-018b42456247",
   "metadata": {},
   "outputs": [
    {
     "name": "stdout",
     "output_type": "stream",
     "text": [
      "+---------------+\n",
      "|         status|\n",
      "+---------------+\n",
      "|PENDING_PAYMENT|\n",
      "|          test4|\n",
      "|          test3|\n",
      "|          test1|\n",
      "|       COMPLETE|\n",
      "|        ON_HOLD|\n",
      "| PAYMENT_REVIEW|\n",
      "|          test2|\n",
      "|     PROCESSING|\n",
      "|         CLOSED|\n",
      "|SUSPECTED_FRAUD|\n",
      "|        PENDING|\n",
      "|       CANCELED|\n",
      "+---------------+\n",
      "\n"
     ]
    }
   ],
   "source": [
    "df.select('status').distinct().show()"
   ]
  },
  {
   "cell_type": "markdown",
   "id": "8f58d362-c847-4574-a6dc-3e1114d9ff70",
   "metadata": {},
   "source": [
    "**Method 1:**"
   ]
  },
  {
   "cell_type": "code",
   "execution_count": 23,
   "id": "5cd1f35c-b6b8-4164-ba58-b73a80496584",
   "metadata": {},
   "outputs": [],
   "source": [
    "from pyspark.sql.functions import when, col"
   ]
  },
  {
   "cell_type": "code",
   "execution_count": 25,
   "id": "5225d597-e793-406c-87b2-8c7bf7424c61",
   "metadata": {},
   "outputs": [],
   "source": [
    "df2 = df.withColumn('modified_status_1',when(df.status=='test4','TESTING')\n",
    "                    .when(df.status=='test3', 'TESTING')\n",
    "                    .when(df.status=='test2', 'TESTING')\n",
    "                    .when(df.status=='test1', 'TESTING')\n",
    "                    .otherwise(df.status))"
   ]
  },
  {
   "cell_type": "code",
   "execution_count": 26,
   "id": "d12d05ce-9c13-459e-a27a-9f095a75565b",
   "metadata": {},
   "outputs": [
    {
     "name": "stdout",
     "output_type": "stream",
     "text": [
      "+---+----------+------+---------------+-----------------+\n",
      "| id|order_date|amount|         status|modified_status_1|\n",
      "+---+----------+------+---------------+-----------------+\n",
      "|  1|2013-07-25| 11599|         CLOSED|           CLOSED|\n",
      "|  2|2013-07-25|   256|PENDING_PAYMENT|  PENDING_PAYMENT|\n",
      "|  3|2013-07-25| 12111|       COMPLETE|         COMPLETE|\n",
      "|  4|2013-07-25|  8827|         CLOSED|           CLOSED|\n",
      "|  5|2013-07-25| 11318|       COMPLETE|         COMPLETE|\n",
      "|  6|2013-07-25|  7130|       COMPLETE|         COMPLETE|\n",
      "|  7|2013-07-25|  4530|       COMPLETE|         COMPLETE|\n",
      "|  8|2013-07-25|  2911|     PROCESSING|       PROCESSING|\n",
      "|  9|2013-07-25|  5657|PENDING_PAYMENT|  PENDING_PAYMENT|\n",
      "| 10|2013-07-25|  5648|PENDING_PAYMENT|  PENDING_PAYMENT|\n",
      "| 11|2013-07-25|   918| PAYMENT_REVIEW|   PAYMENT_REVIEW|\n",
      "| 12|2013-07-25|  1837|         CLOSED|           CLOSED|\n",
      "| 13|2013-07-25|  9149|PENDING_PAYMENT|  PENDING_PAYMENT|\n",
      "| 14|2013-07-25|  9842|     PROCESSING|       PROCESSING|\n",
      "| 15|2013-07-25|  2568|       COMPLETE|         COMPLETE|\n",
      "| 16|2013-07-25|  7276|PENDING_PAYMENT|  PENDING_PAYMENT|\n",
      "| 17|2013-07-25|  2667|       COMPLETE|         COMPLETE|\n",
      "| 18|2013-07-25|  1205|         CLOSED|           CLOSED|\n",
      "| 19|2013-07-25|  9488|PENDING_PAYMENT|  PENDING_PAYMENT|\n",
      "| 20|2013-07-25|  9198|     PROCESSING|       PROCESSING|\n",
      "+---+----------+------+---------------+-----------------+\n",
      "only showing top 20 rows\n",
      "\n"
     ]
    }
   ],
   "source": [
    "df2.show()"
   ]
  },
  {
   "cell_type": "code",
   "execution_count": 29,
   "id": "c55f5045-8e78-4d4e-9012-68dbce04a7cd",
   "metadata": {},
   "outputs": [
    {
     "name": "stdout",
     "output_type": "stream",
     "text": [
      "+-----+----------+------+------+-----------------+\n",
      "|   id|order_date|amount|status|modified_status_1|\n",
      "+-----+----------+------+------+-----------------+\n",
      "|68809|2014-03-12|  5946| test1|          TESTING|\n",
      "|68817|2014-03-27|  6704| test2|          TESTING|\n",
      "|68827|2014-04-16|  8814| test4|          TESTING|\n",
      "|68871|2014-06-28|  4960| test3|          TESTING|\n",
      "+-----+----------+------+------+-----------------+\n",
      "\n"
     ]
    },
    {
     "name": "stderr",
     "output_type": "stream",
     "text": [
      "                                                                                \r"
     ]
    }
   ],
   "source": [
    "df2.filter((col('status')=='test1')|(col('status')=='test2')|(col('status')=='test3')|(col('status')=='test4')).show()"
   ]
  },
  {
   "cell_type": "markdown",
   "id": "03915f18-b47b-4f1a-9ea7-0b121117fb3a",
   "metadata": {},
   "source": [
    "**Method 2:**"
   ]
  },
  {
   "cell_type": "code",
   "execution_count": 30,
   "id": "7d8710e0-6790-44e9-a8a2-fa52c55af129",
   "metadata": {},
   "outputs": [],
   "source": [
    "from pyspark.sql.functions import expr"
   ]
  },
  {
   "cell_type": "code",
   "execution_count": 31,
   "id": "1ddbff06-5ff3-4e0c-a1f8-5aa2ca819eaa",
   "metadata": {},
   "outputs": [],
   "source": [
    "df3 = df.withColumn('modified_status', expr(\"CASE WHEN status = 'test1' THEN 'TESTING' \" +\n",
    "                                            \"WHEN status = 'test2' THEN 'TESTING' WHEN status = 'test3' THEN 'TESTING' \" +\n",
    "                                            \"WHEN status = 'test4' THEN 'TESTING' WHEN status IS NULL THEN ''\" +\n",
    "                                            \"ELSE status END\"))"
   ]
  },
  {
   "cell_type": "code",
   "execution_count": 32,
   "id": "a62bf139-df12-4cbf-b408-d4950a6bbccd",
   "metadata": {},
   "outputs": [
    {
     "name": "stdout",
     "output_type": "stream",
     "text": [
      "+---+----------+------+---------------+---------------+\n",
      "| id|order_date|amount|         status|modified_status|\n",
      "+---+----------+------+---------------+---------------+\n",
      "|  1|2013-07-25| 11599|         CLOSED|         CLOSED|\n",
      "|  2|2013-07-25|   256|PENDING_PAYMENT|PENDING_PAYMENT|\n",
      "|  3|2013-07-25| 12111|       COMPLETE|       COMPLETE|\n",
      "|  4|2013-07-25|  8827|         CLOSED|         CLOSED|\n",
      "|  5|2013-07-25| 11318|       COMPLETE|       COMPLETE|\n",
      "|  6|2013-07-25|  7130|       COMPLETE|       COMPLETE|\n",
      "|  7|2013-07-25|  4530|       COMPLETE|       COMPLETE|\n",
      "|  8|2013-07-25|  2911|     PROCESSING|     PROCESSING|\n",
      "|  9|2013-07-25|  5657|PENDING_PAYMENT|PENDING_PAYMENT|\n",
      "| 10|2013-07-25|  5648|PENDING_PAYMENT|PENDING_PAYMENT|\n",
      "| 11|2013-07-25|   918| PAYMENT_REVIEW| PAYMENT_REVIEW|\n",
      "| 12|2013-07-25|  1837|         CLOSED|         CLOSED|\n",
      "| 13|2013-07-25|  9149|PENDING_PAYMENT|PENDING_PAYMENT|\n",
      "| 14|2013-07-25|  9842|     PROCESSING|     PROCESSING|\n",
      "| 15|2013-07-25|  2568|       COMPLETE|       COMPLETE|\n",
      "| 16|2013-07-25|  7276|PENDING_PAYMENT|PENDING_PAYMENT|\n",
      "| 17|2013-07-25|  2667|       COMPLETE|       COMPLETE|\n",
      "| 18|2013-07-25|  1205|         CLOSED|         CLOSED|\n",
      "| 19|2013-07-25|  9488|PENDING_PAYMENT|PENDING_PAYMENT|\n",
      "| 20|2013-07-25|  9198|     PROCESSING|     PROCESSING|\n",
      "+---+----------+------+---------------+---------------+\n",
      "only showing top 20 rows\n",
      "\n"
     ]
    }
   ],
   "source": [
    "df3.show()"
   ]
  },
  {
   "cell_type": "code",
   "execution_count": 33,
   "id": "f2d7bb9c-d7bd-4174-8800-929ac5a0e948",
   "metadata": {},
   "outputs": [
    {
     "name": "stdout",
     "output_type": "stream",
     "text": [
      "+-----+----------+------+------+---------------+\n",
      "|   id|order_date|amount|status|modified_status|\n",
      "+-----+----------+------+------+---------------+\n",
      "|68809|2014-03-12|  5946| test1|        TESTING|\n",
      "|68817|2014-03-27|  6704| test2|        TESTING|\n",
      "|68827|2014-04-16|  8814| test4|        TESTING|\n",
      "|68871|2014-06-28|  4960| test3|        TESTING|\n",
      "+-----+----------+------+------+---------------+\n",
      "\n"
     ]
    },
    {
     "name": "stderr",
     "output_type": "stream",
     "text": [
      "                                                                                \r"
     ]
    }
   ],
   "source": [
    "df3.filter((col('status')=='test1')|(col('status')=='test2')|(col('status')=='test3')|(col('status')=='test4')).show()"
   ]
  },
  {
   "cell_type": "markdown",
   "id": "0e835854-27b1-478c-9472-dfb6a6ec0a8d",
   "metadata": {},
   "source": [
    "**Column Renaming**"
   ]
  },
  {
   "cell_type": "code",
   "execution_count": 34,
   "id": "7a76bcfb-4c6b-4365-9e46-83fa30f1c658",
   "metadata": {},
   "outputs": [
    {
     "name": "stdout",
     "output_type": "stream",
     "text": [
      "+---+----------+------+---------------+---------------+\n",
      "| id|order_date|amount|         status| updated_status|\n",
      "+---+----------+------+---------------+---------------+\n",
      "|  1|2013-07-25| 11599|         CLOSED|         CLOSED|\n",
      "|  2|2013-07-25|   256|PENDING_PAYMENT|PENDING_PAYMENT|\n",
      "|  3|2013-07-25| 12111|       COMPLETE|       COMPLETE|\n",
      "|  4|2013-07-25|  8827|         CLOSED|         CLOSED|\n",
      "|  5|2013-07-25| 11318|       COMPLETE|       COMPLETE|\n",
      "|  6|2013-07-25|  7130|       COMPLETE|       COMPLETE|\n",
      "|  7|2013-07-25|  4530|       COMPLETE|       COMPLETE|\n",
      "|  8|2013-07-25|  2911|     PROCESSING|     PROCESSING|\n",
      "|  9|2013-07-25|  5657|PENDING_PAYMENT|PENDING_PAYMENT|\n",
      "| 10|2013-07-25|  5648|PENDING_PAYMENT|PENDING_PAYMENT|\n",
      "| 11|2013-07-25|   918| PAYMENT_REVIEW| PAYMENT_REVIEW|\n",
      "| 12|2013-07-25|  1837|         CLOSED|         CLOSED|\n",
      "| 13|2013-07-25|  9149|PENDING_PAYMENT|PENDING_PAYMENT|\n",
      "| 14|2013-07-25|  9842|     PROCESSING|     PROCESSING|\n",
      "| 15|2013-07-25|  2568|       COMPLETE|       COMPLETE|\n",
      "| 16|2013-07-25|  7276|PENDING_PAYMENT|PENDING_PAYMENT|\n",
      "| 17|2013-07-25|  2667|       COMPLETE|       COMPLETE|\n",
      "| 18|2013-07-25|  1205|         CLOSED|         CLOSED|\n",
      "| 19|2013-07-25|  9488|PENDING_PAYMENT|PENDING_PAYMENT|\n",
      "| 20|2013-07-25|  9198|     PROCESSING|     PROCESSING|\n",
      "+---+----------+------+---------------+---------------+\n",
      "only showing top 20 rows\n",
      "\n"
     ]
    }
   ],
   "source": [
    "df2.withColumnRenamed('modified_status_1','updated_status').show()"
   ]
  },
  {
   "cell_type": "markdown",
   "id": "7f087229-dca9-4ca1-a16f-e764befad421",
   "metadata": {},
   "source": [
    "**Upper, Lower**"
   ]
  },
  {
   "cell_type": "code",
   "execution_count": 35,
   "id": "759789d7-69d7-4d1d-9b89-b5c0f0fd4c79",
   "metadata": {},
   "outputs": [],
   "source": [
    "from pyspark.sql.functions import upper, lower"
   ]
  },
  {
   "cell_type": "code",
   "execution_count": 40,
   "id": "1b4ea713-9836-4a99-8f8a-89e15e18a210",
   "metadata": {},
   "outputs": [
    {
     "name": "stdout",
     "output_type": "stream",
     "text": [
      "+---------------+\n",
      "|  lower(status)|\n",
      "+---------------+\n",
      "|         closed|\n",
      "|pending_payment|\n",
      "|       complete|\n",
      "|         closed|\n",
      "|       complete|\n",
      "|       complete|\n",
      "|       complete|\n",
      "|     processing|\n",
      "|pending_payment|\n",
      "|pending_payment|\n",
      "| payment_review|\n",
      "|         closed|\n",
      "|pending_payment|\n",
      "|     processing|\n",
      "|       complete|\n",
      "|pending_payment|\n",
      "|       complete|\n",
      "|         closed|\n",
      "|pending_payment|\n",
      "|     processing|\n",
      "+---------------+\n",
      "only showing top 20 rows\n",
      "\n"
     ]
    }
   ],
   "source": [
    "df.select(lower(df.status)).show()"
   ]
  },
  {
   "cell_type": "markdown",
   "id": "20b88647-d2af-41da-bf42-86f3614b6743",
   "metadata": {},
   "source": [
    "**Missing Values**"
   ]
  },
  {
   "cell_type": "code",
   "execution_count": 41,
   "id": "0a026556-e0cc-4426-95ed-6316d2e543bb",
   "metadata": {},
   "outputs": [],
   "source": [
    "from pyspark.sql.functions import col,isnan, when, count"
   ]
  },
  {
   "cell_type": "code",
   "execution_count": 43,
   "id": "2b4854d2-6a72-4aa0-a22c-cc79b880bc5b",
   "metadata": {},
   "outputs": [
    {
     "name": "stdout",
     "output_type": "stream",
     "text": [
      "+---+----------+------+------+\n",
      "| id|order_date|amount|status|\n",
      "+---+----------+------+------+\n",
      "|  0|         0|     0|     0|\n",
      "+---+----------+------+------+\n",
      "\n"
     ]
    },
    {
     "name": "stderr",
     "output_type": "stream",
     "text": [
      "                                                                                \r"
     ]
    }
   ],
   "source": [
    "df.select([count(when(col(c).isNull(), c)).alias(c) for c in df.columns]).show()"
   ]
  },
  {
   "cell_type": "markdown",
   "id": "058865d4-dbe8-457d-b7f4-d7806acf26d4",
   "metadata": {},
   "source": [
    "**User Defined Functions**"
   ]
  },
  {
   "cell_type": "code",
   "execution_count": 44,
   "id": "76f64ca9-0e20-4c59-8d55-e33c87ef1229",
   "metadata": {},
   "outputs": [],
   "source": [
    "from pyspark.sql.functions import udf\n",
    "from pyspark.sql.types import StringType"
   ]
  },
  {
   "cell_type": "code",
   "execution_count": 45,
   "id": "b0a51e2d-801c-4db9-b0a3-af7bb0a93545",
   "metadata": {},
   "outputs": [],
   "source": [
    "# User-defined function\n",
    "def upper_to_lower(status):\n",
    "    return status.lower()"
   ]
  },
  {
   "cell_type": "code",
   "execution_count": 47,
   "id": "db62afb8-2310-4107-b7ee-5a9b04654e59",
   "metadata": {},
   "outputs": [],
   "source": [
    "# Register the UDF\n",
    "lowercase_udf = udf(upper_to_lower, StringType())"
   ]
  },
  {
   "cell_type": "code",
   "execution_count": 56,
   "id": "1503aa9f-eaab-43dc-8763-07fff7c0140f",
   "metadata": {},
   "outputs": [
    {
     "name": "stdout",
     "output_type": "stream",
     "text": [
      "+---+----------+------+---------------+---------------+\n",
      "|id |order_date|amount|status         |name_lowercase |\n",
      "+---+----------+------+---------------+---------------+\n",
      "|1  |2013-07-25|11599 |CLOSED         |closed         |\n",
      "|2  |2013-07-25|256   |PENDING_PAYMENT|pending_payment|\n",
      "|3  |2013-07-25|12111 |COMPLETE       |complete       |\n",
      "|4  |2013-07-25|8827  |CLOSED         |closed         |\n",
      "|5  |2013-07-25|11318 |COMPLETE       |complete       |\n",
      "|6  |2013-07-25|7130  |COMPLETE       |complete       |\n",
      "|7  |2013-07-25|4530  |COMPLETE       |complete       |\n",
      "|8  |2013-07-25|2911  |PROCESSING     |processing     |\n",
      "|9  |2013-07-25|5657  |PENDING_PAYMENT|pending_payment|\n",
      "|10 |2013-07-25|5648  |PENDING_PAYMENT|pending_payment|\n",
      "|11 |2013-07-25|918   |PAYMENT_REVIEW |payment_review |\n",
      "|12 |2013-07-25|1837  |CLOSED         |closed         |\n",
      "|13 |2013-07-25|9149  |PENDING_PAYMENT|pending_payment|\n",
      "|14 |2013-07-25|9842  |PROCESSING     |processing     |\n",
      "|15 |2013-07-25|2568  |COMPLETE       |complete       |\n",
      "|16 |2013-07-25|7276  |PENDING_PAYMENT|pending_payment|\n",
      "|17 |2013-07-25|2667  |COMPLETE       |complete       |\n",
      "|18 |2013-07-25|1205  |CLOSED         |closed         |\n",
      "|19 |2013-07-25|9488  |PENDING_PAYMENT|pending_payment|\n",
      "|20 |2013-07-25|9198  |PROCESSING     |processing     |\n",
      "+---+----------+------+---------------+---------------+\n",
      "only showing top 20 rows\n",
      "\n"
     ]
    },
    {
     "name": "stderr",
     "output_type": "stream",
     "text": [
      "Traceback (most recent call last):\n",
      "  File \"/home/bigdatapedia/spark/python/lib/pyspark.zip/pyspark/daemon.py\", line 186, in manager\n",
      "  File \"/home/bigdatapedia/spark/python/lib/pyspark.zip/pyspark/daemon.py\", line 74, in worker\n",
      "  File \"/home/bigdatapedia/spark/python/lib/pyspark.zip/pyspark/worker.py\", line 643, in main\n",
      "    if read_int(infile) == SpecialLengths.END_OF_STREAM:\n",
      "  File \"/home/bigdatapedia/spark/python/lib/pyspark.zip/pyspark/serializers.py\", line 564, in read_int\n",
      "    raise EOFError\n",
      "EOFError\n"
     ]
    }
   ],
   "source": [
    "# Apply the UDF to the DataFrame column\n",
    "df.withColumn('name_lowercase',lowercase_udf(col('status'))).show(truncate=False)"
   ]
  },
  {
   "cell_type": "markdown",
   "id": "6e75047b-ed1e-4d46-909c-ef82114ce502",
   "metadata": {},
   "source": [
    "**Joins and Combining DataFrames**"
   ]
  },
  {
   "cell_type": "code",
   "execution_count": 59,
   "id": "cfee9bf3-1e4f-404a-90fb-cf90efe75063",
   "metadata": {},
   "outputs": [],
   "source": [
    "employees = spark.createDataFrame([(1, \"John\", \"Engineering\"), (2, \"Mike\", \"HR\"), (3, \"Sara\", \"Finance\")], [\"emp_id\", \"name\", \"department\"])\n",
    "addresses = spark.createDataFrame([(1, \"NY\"), (2, \"LA\"), (4, \"DC\")], [\"emp_id\", \"address\"])"
   ]
  },
  {
   "cell_type": "code",
   "execution_count": 60,
   "id": "a79c8950-d879-4980-822b-c6326d1b85d5",
   "metadata": {},
   "outputs": [
    {
     "name": "stderr",
     "output_type": "stream",
     "text": [
      "                                                                                \r"
     ]
    },
    {
     "name": "stdout",
     "output_type": "stream",
     "text": [
      "+------+----+-----------+-------+\n",
      "|emp_id|name| department|address|\n",
      "+------+----+-----------+-------+\n",
      "|     1|John|Engineering|     NY|\n",
      "|     2|Mike|         HR|     LA|\n",
      "+------+----+-----------+-------+\n",
      "\n"
     ]
    }
   ],
   "source": [
    "# Inner Join\n",
    "result_inner = employees.join(addresses, on='emp_id',how='inner')\n",
    "result_inner.show()"
   ]
  },
  {
   "cell_type": "code",
   "execution_count": 61,
   "id": "2a4f50c3-6e82-4d3a-80dd-1ccc6f8180ba",
   "metadata": {},
   "outputs": [
    {
     "name": "stderr",
     "output_type": "stream",
     "text": [
      "                                                                                \r"
     ]
    },
    {
     "name": "stdout",
     "output_type": "stream",
     "text": [
      "+------+----+-----------+-------+\n",
      "|emp_id|name| department|address|\n",
      "+------+----+-----------+-------+\n",
      "|     1|John|Engineering|     NY|\n",
      "|     3|Sara|    Finance|   null|\n",
      "|     2|Mike|         HR|     LA|\n",
      "|     4|null|       null|     DC|\n",
      "+------+----+-----------+-------+\n",
      "\n"
     ]
    }
   ],
   "source": [
    "# Outer Join\n",
    "result_outer = employees.join(other=addresses, on='emp_id', how='outer')\n",
    "result_outer.show()"
   ]
  },
  {
   "cell_type": "code",
   "execution_count": 62,
   "id": "4c60d926-f36f-4ed8-a577-6a57d5cb9264",
   "metadata": {},
   "outputs": [
    {
     "name": "stderr",
     "output_type": "stream",
     "text": [
      "                                                                                \r"
     ]
    },
    {
     "name": "stdout",
     "output_type": "stream",
     "text": [
      "+------+----+-----------+-------+\n",
      "|emp_id|name| department|address|\n",
      "+------+----+-----------+-------+\n",
      "|     1|John|Engineering|     NY|\n",
      "|     3|Sara|    Finance|   null|\n",
      "|     2|Mike|         HR|     LA|\n",
      "+------+----+-----------+-------+\n",
      "\n"
     ]
    }
   ],
   "source": [
    "# left join\n",
    "result_left = employees.join(addresses, \"emp_id\", \"left_outer\")\n",
    "result_left.show()"
   ]
  },
  {
   "cell_type": "markdown",
   "id": "66ce5018-368d-4ff2-a46b-eb5dba6bc5f9",
   "metadata": {},
   "source": [
    "**Joining on Multiple Columns**"
   ]
  },
  {
   "cell_type": "code",
   "execution_count": 63,
   "id": "32270054-d076-43d9-80d9-e0dc8c0fddba",
   "metadata": {},
   "outputs": [],
   "source": [
    "df1 = spark.createDataFrame([(1, \"John\", \"Doe\"), (2, \"Mike\", \"Smith\")], [\"id\", \"first_name\", \"last_name\"])\n",
    "df2 = spark.createDataFrame([(1, \"John\", \"Doe\"), (2, \"Mike\", \"Johnson\")], [\"id\", \"first_name\", \"last_name\"])"
   ]
  },
  {
   "cell_type": "code",
   "execution_count": 64,
   "id": "746b9085-5d16-4720-80af-f7f3fcb51a06",
   "metadata": {},
   "outputs": [
    {
     "name": "stdout",
     "output_type": "stream",
     "text": [
      "+---+----------+---------+---------+\n",
      "| id|first_name|last_name|last_name|\n",
      "+---+----------+---------+---------+\n",
      "|  1|      John|      Doe|      Doe|\n",
      "|  2|      Mike|    Smith|  Johnson|\n",
      "+---+----------+---------+---------+\n",
      "\n"
     ]
    }
   ],
   "source": [
    "result = df1.join(df2, ['id','first_name'])\n",
    "result.show()"
   ]
  },
  {
   "cell_type": "markdown",
   "id": "2b5ba1f2-c4ae-43b1-afa6-c6607aa8ec7f",
   "metadata": {},
   "source": [
    "**Broadcast Joins**"
   ]
  },
  {
   "cell_type": "code",
   "execution_count": 65,
   "id": "e6ff05f3-0136-432f-9e3c-426784b154e2",
   "metadata": {},
   "outputs": [],
   "source": [
    "from pyspark.sql.functions import broadcast"
   ]
  },
  {
   "cell_type": "code",
   "execution_count": 66,
   "id": "d45a3b09-e696-4e82-896f-903288aaa70c",
   "metadata": {},
   "outputs": [
    {
     "name": "stdout",
     "output_type": "stream",
     "text": [
      "+------+----+-----------+-------+\n",
      "|emp_id|name| department|address|\n",
      "+------+----+-----------+-------+\n",
      "|     1|John|Engineering|     NY|\n",
      "|     2|Mike|         HR|     LA|\n",
      "+------+----+-----------+-------+\n",
      "\n"
     ]
    }
   ],
   "source": [
    "result = employees.join(broadcast(addresses), \"emp_id\")\n",
    "result.show()"
   ]
  },
  {
   "cell_type": "code",
   "execution_count": null,
   "id": "fea9cafb-cf7c-4027-8d10-8fd9b4089b9a",
   "metadata": {},
   "outputs": [],
   "source": []
  },
  {
   "cell_type": "code",
   "execution_count": null,
   "id": "b20aef06-9e7e-4688-842c-762d28478c26",
   "metadata": {},
   "outputs": [],
   "source": []
  },
  {
   "cell_type": "code",
   "execution_count": null,
   "id": "4e88dfcb-afc5-46ee-8b45-2c6fd914469e",
   "metadata": {},
   "outputs": [],
   "source": []
  },
  {
   "cell_type": "code",
   "execution_count": null,
   "id": "8d01449b-e6b3-4244-b344-eea9b58c3e7b",
   "metadata": {},
   "outputs": [],
   "source": []
  },
  {
   "cell_type": "code",
   "execution_count": null,
   "id": "5570cb1c-7a78-4add-8de0-b4df0f0d8f55",
   "metadata": {},
   "outputs": [],
   "source": []
  },
  {
   "cell_type": "code",
   "execution_count": null,
   "id": "78a42d35-b03f-41d6-a680-d8133792b493",
   "metadata": {},
   "outputs": [],
   "source": []
  },
  {
   "cell_type": "code",
   "execution_count": null,
   "id": "9ba5aab9-76e1-4b08-a197-cf9fb5c64233",
   "metadata": {},
   "outputs": [],
   "source": []
  },
  {
   "cell_type": "code",
   "execution_count": null,
   "id": "d130e5a3-e9a0-4c84-9eef-2a2a66b1bbb8",
   "metadata": {},
   "outputs": [],
   "source": []
  }
 ],
 "metadata": {
  "kernelspec": {
   "display_name": "Python 3 (ipykernel)",
   "language": "python",
   "name": "python3"
  },
  "language_info": {
   "codemirror_mode": {
    "name": "ipython",
    "version": 3
   },
   "file_extension": ".py",
   "mimetype": "text/x-python",
   "name": "python",
   "nbconvert_exporter": "python",
   "pygments_lexer": "ipython3",
   "version": "3.10.13"
  }
 },
 "nbformat": 4,
 "nbformat_minor": 5
}
